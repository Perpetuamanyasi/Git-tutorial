{
 "cells": [
  {
   "cell_type": "markdown",
   "metadata": {},
   "source": [
    "# BMI Calculator"
   ]
  },
  {
   "cell_type": "code",
   "execution_count": 1,
   "metadata": {},
   "outputs": [
    {
     "name": "stdout",
     "output_type": "stream",
     "text": [
      "enter your name:Perpetua\n",
      " Hello Perpetua. welcome to our BMI calcuation system\n"
     ]
    }
   ],
   "source": [
    "Name = input(\"enter your name:\")\n",
    "print(f\" Hello {Name}. welcome to our BMI calcuation system\")"
   ]
  },
  {
   "cell_type": "code",
   "execution_count": 2,
   "metadata": {},
   "outputs": [
    {
     "name": "stdout",
     "output_type": "stream",
     "text": [
      "provide us with the information below:\n",
      "Enter your weight :kgs78\n",
      "Enter your height :meters1.85\n",
      "-----BMI Resluts-----\n",
      "Your BMI is 22.79\n",
      "normal\n"
     ]
    }
   ],
   "source": [
    "print(\"provide us with the information below:\")\n",
    "weight = float(input(\"Enter your weight :kgs\"))\n",
    "height = float(input(\"Enter your height :meters\"))\n",
    "\n",
    "BMI= round(weight/(height*height),2)\n",
    "print(\"-----BMI Resluts-----\")\n",
    "print(f\"Your BMI is {BMI}\")\n",
    "       \n",
    "if BMI > 25:\n",
    "       print(\"overweight\")\n",
    "elif BMI < 18:\n",
    "       print(\"underweght\")\n",
    "else:\n",
    "       print(\"normal\")"
   ]
  },
  {
   "cell_type": "code",
   "execution_count": null,
   "metadata": {},
   "outputs": [],
   "source": []
  }
 ],
 "metadata": {
  "kernelspec": {
   "display_name": "Python 3",
   "language": "python",
   "name": "python3"
  },
  "language_info": {
   "codemirror_mode": {
    "name": "ipython",
    "version": 3
   },
   "file_extension": ".py",
   "mimetype": "text/x-python",
   "name": "python",
   "nbconvert_exporter": "python",
   "pygments_lexer": "ipython3",
   "version": "3.8.5"
  }
 },
 "nbformat": 4,
 "nbformat_minor": 5
}
